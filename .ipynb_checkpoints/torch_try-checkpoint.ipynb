{
 "cells": [
  {
   "cell_type": "code",
   "execution_count": 5,
   "metadata": {
    "ExecuteTime": {
     "end_time": "2018-11-05T13:28:10.543501Z",
     "start_time": "2018-11-05T13:28:08.735611Z"
    }
   },
   "outputs": [],
   "source": [
    "import torch"
   ]
  },
  {
   "cell_type": "code",
   "execution_count": 6,
   "metadata": {
    "ExecuteTime": {
     "end_time": "2018-11-05T13:28:12.577848Z",
     "start_time": "2018-11-05T13:28:11.573615Z"
    }
   },
   "outputs": [],
   "source": [
    "import torchvision"
   ]
  },
  {
   "cell_type": "code",
   "execution_count": 7,
   "metadata": {
    "ExecuteTime": {
     "end_time": "2018-11-05T13:28:45.629944Z",
     "start_time": "2018-11-05T13:28:45.609655Z"
    }
   },
   "outputs": [
    {
     "data": {
      "text/plain": [
       "False"
      ]
     },
     "execution_count": 7,
     "metadata": {},
     "output_type": "execute_result"
    }
   ],
   "source": [
    "torch.cuda.is_available()"
   ]
  },
  {
   "cell_type": "markdown",
   "metadata": {},
   "source": [
    "# Torch tensors "
   ]
  },
  {
   "cell_type": "code",
   "execution_count": 25,
   "metadata": {
    "ExecuteTime": {
     "end_time": "2018-11-05T13:40:37.951360Z",
     "start_time": "2018-11-05T13:40:37.941932Z"
    }
   },
   "outputs": [
    {
     "name": "stdout",
     "output_type": "stream",
     "text": [
      "tensor([2, 2, 1])\n",
      "<class 'torch.Tensor'>\n",
      "torch.int64\n"
     ]
    }
   ],
   "source": [
    "# 1-D tensor\n",
    "\n",
    "a = torch.tensor([2, 2, 1])\n",
    "\n",
    "print(a)\n",
    "print(type(a))\n",
    "print(a.dtype)"
   ]
  },
  {
   "cell_type": "code",
   "execution_count": 24,
   "metadata": {
    "ExecuteTime": {
     "end_time": "2018-11-05T13:40:26.828899Z",
     "start_time": "2018-11-05T13:40:26.819219Z"
    }
   },
   "outputs": [
    {
     "name": "stdout",
     "output_type": "stream",
     "text": [
      "tensor([[1, 2, 2],\n",
      "        [4, 5, 6],\n",
      "        [3, 3, 4],\n",
      "        [7, 8, 5]])\n",
      "<class 'torch.Tensor'>\n",
      "torch.int64\n"
     ]
    }
   ],
   "source": [
    "# 2-D tensors\n",
    "b = torch.tensor([[1,2,2],[4,5,6],[3,3,4],[7,8,5]])\n",
    "print(b)\n",
    "print(type(b))\n",
    "print(b.dtype)"
   ]
  },
  {
   "cell_type": "code",
   "execution_count": 16,
   "metadata": {
    "ExecuteTime": {
     "end_time": "2018-11-05T13:35:06.973628Z",
     "start_time": "2018-11-05T13:35:06.966063Z"
    }
   },
   "outputs": [
    {
     "name": "stdout",
     "output_type": "stream",
     "text": [
      "torch.Size([3])\n",
      "torch.Size([4, 3])\n",
      "torch.Size([3])\n",
      "torch.Size([4, 3])\n"
     ]
    }
   ],
   "source": [
    "# the size of tensor\n",
    "\n",
    "print(a.shape)\n",
    "print(b.shape)\n",
    "print(a.size())\n",
    "print(b.size())"
   ]
  },
  {
   "cell_type": "code",
   "execution_count": 18,
   "metadata": {
    "ExecuteTime": {
     "end_time": "2018-11-05T13:36:44.329574Z",
     "start_time": "2018-11-05T13:36:44.324218Z"
    }
   },
   "outputs": [
    {
     "name": "stdout",
     "output_type": "stream",
     "text": [
      "4\n"
     ]
    }
   ],
   "source": [
    "# Get numbers of rows of b\n",
    "print(b.shape[0])"
   ]
  },
  {
   "cell_type": "code",
   "execution_count": 30,
   "metadata": {
    "ExecuteTime": {
     "end_time": "2018-11-05T13:42:17.268586Z",
     "start_time": "2018-11-05T13:42:17.253743Z"
    }
   },
   "outputs": [
    {
     "name": "stdout",
     "output_type": "stream",
     "text": [
      "tensor([[1., 2., 2.],\n",
      "        [4., 5., 6.],\n",
      "        [3., 3., 4.],\n",
      "        [7., 8., 5.]])\n",
      "<class 'torch.Tensor'>\n",
      "torch.float32\n",
      "tensor(4.1667)\n",
      "tensor(2.1249)\n"
     ]
    }
   ],
   "source": [
    "# check out float tensors\n",
    "c = torch.FloatTensor([[1,2,2],[4,5,6],[3,3,4],[7,8,5]])\n",
    "print(c)\n",
    "print(type(c))\n",
    "print(c.dtype)\n",
    "print(c.mean()) # (1+2+3+4+5+6+3+3+4+7+8+5)/12\n",
    "print(c.std())"
   ]
  },
  {
   "cell_type": "code",
   "execution_count": 31,
   "metadata": {
    "ExecuteTime": {
     "end_time": "2018-11-05T13:42:57.611817Z",
     "start_time": "2018-11-05T13:42:57.597187Z"
    }
   },
   "outputs": [
    {
     "name": "stdout",
     "output_type": "stream",
     "text": [
      "tensor([[1., 2., 2.],\n",
      "        [4., 5., 6.],\n",
      "        [3., 3., 4.],\n",
      "        [7., 8., 5.]], dtype=torch.float64)\n",
      "<class 'torch.Tensor'>\n",
      "torch.float64\n",
      "tensor(4.1667, dtype=torch.float64)\n",
      "tensor(2.1249, dtype=torch.float64)\n"
     ]
    }
   ],
   "source": [
    "# check out double tensors\n",
    "d = torch.DoubleTensor([[1,2,2],[4,5,6],[3,3,4],[7,8,5]])\n",
    "\n",
    "print(d)\n",
    "print(type(d))\n",
    "print(d.dtype)\n",
    "print(d.mean())# (1+2+3+4+5+6+3+3+4+7+8+5)/12\n",
    "print(d.std())"
   ]
  },
  {
   "cell_type": "code",
   "execution_count": 41,
   "metadata": {
    "ExecuteTime": {
     "end_time": "2018-11-05T13:45:13.538025Z",
     "start_time": "2018-11-05T13:45:13.531877Z"
    }
   },
   "outputs": [
    {
     "name": "stdout",
     "output_type": "stream",
     "text": [
      "tensor([[1, 2, 2, 4, 5, 6],\n",
      "        [3, 3, 4, 7, 8, 5]])\n"
     ]
    }
   ],
   "source": [
    "print(b.view(-1,6))"
   ]
  },
  {
   "cell_type": "code",
   "execution_count": null,
   "metadata": {
    "collapsed": true
   },
   "outputs": [],
   "source": []
  },
  {
   "cell_type": "code",
   "execution_count": null,
   "metadata": {
    "collapsed": true
   },
   "outputs": [],
   "source": []
  },
  {
   "cell_type": "code",
   "execution_count": null,
   "metadata": {
    "collapsed": true
   },
   "outputs": [],
   "source": []
  }
 ],
 "metadata": {
  "kernelspec": {
   "display_name": "Python 3",
   "language": "python",
   "name": "python3"
  },
  "language_info": {
   "codemirror_mode": {
    "name": "ipython",
    "version": 3
   },
   "file_extension": ".py",
   "mimetype": "text/x-python",
   "name": "python",
   "nbconvert_exporter": "python",
   "pygments_lexer": "ipython3",
   "version": "3.6.1"
  },
  "toc": {
   "base_numbering": 1,
   "nav_menu": {},
   "number_sections": true,
   "sideBar": true,
   "skip_h1_title": false,
   "title_cell": "Table of Contents",
   "title_sidebar": "Contents",
   "toc_cell": false,
   "toc_position": {},
   "toc_section_display": true,
   "toc_window_display": false
  }
 },
 "nbformat": 4,
 "nbformat_minor": 2
}
